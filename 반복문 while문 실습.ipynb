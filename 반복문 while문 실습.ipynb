{
 "cells": [
  {
   "cell_type": "code",
   "execution_count": 4,
   "id": "089fcd19-57ad-4473-b404-967ef79fbdb9",
   "metadata": {},
   "outputs": [
    {
     "name": "stdout",
     "output_type": "stream",
     "text": [
      "나무를 1번 찍었습니다.\n",
      "나무를 2번 찍었습니다.\n",
      "나무를 3번 찍었습니다.\n",
      "나무를 4번 찍었습니다.\n",
      "나무를 5번 찍었습니다.\n",
      "나무를 6번 찍었습니다.\n",
      "나무를 7번 찍었습니다.\n",
      "나무를 8번 찍었습니다.\n",
      "나무를 9번 찍었습니다.\n",
      "나무를 10번 찍었습니다.\n",
      "나무가 쓰러졌습니다.\n"
     ]
    }
   ],
   "source": [
    "#반복문\n",
    "#while 문 : 끝을 모를떄\n",
    "#for 문 : 알떄\n",
    "\n",
    "hit = 0\n",
    "while hit<10:\n",
    "    hit=hit+1\n",
    "    print(f\"나무를 {hit}번 찍었습니다.\")\n",
    "    if hit==10:\n",
    "        print(\"나무가 쓰러졌습니다.\")"
   ]
  },
  {
   "cell_type": "code",
   "execution_count": 9,
   "id": "fd8d345e-c09f-4cb4-a628-9e0e86e2358d",
   "metadata": {},
   "outputs": [
    {
     "name": "stdout",
     "output_type": "stream",
     "text": [
      "커피가 9잔 남았습니다.\n",
      "커피가 8잔 남았습니다.\n",
      "커피가 7잔 남았습니다.\n",
      "커피가 6잔 남았습니다.\n",
      "커피가 5잔 남았습니다.\n",
      "커피가 4잔 남았습니다.\n",
      "커피가 3잔 남았습니다.\n",
      "커피가 2잔 남았습니다.\n",
      "커피가 1잔 남았습니다.\n",
      "커피가 0잔 남았습니다.\n",
      "매진되었습니다.\n"
     ]
    }
   ],
   "source": [
    "coffee=10\n",
    "while True:\n",
    "    coffee=coffee-1\n",
    "    print(f\"커피가 {coffee}잔 남았습니다.\")\n",
    "    if coffee==0:\n",
    "        print(\"매진되었습니다.\")\n",
    "        break\n",
    "\n",
    "else:\n",
    "    print(\"정상종료\") #break없이 끝까지 실행된 경우에만"
   ]
  },
  {
   "cell_type": "code",
   "execution_count": 8,
   "id": "9c0561e4-74ae-4283-ad28-9ba2f962d266",
   "metadata": {},
   "outputs": [
    {
     "name": "stdout",
     "output_type": "stream",
     "text": [
      "1\n",
      "3\n",
      "5\n",
      "7\n",
      "9\n"
     ]
    }
   ],
   "source": [
    "a=0\n",
    "while a<10:\n",
    "    a+=1\n",
    "    if a%2== 0:\n",
    "        continue\n",
    "    print(a)"
   ]
  },
  {
   "cell_type": "code",
   "execution_count": null,
   "id": "1c49d3cd-7ca2-4281-85e5-b79daa00abc2",
   "metadata": {},
   "outputs": [],
   "source": []
  }
 ],
 "metadata": {
  "kernelspec": {
   "display_name": "Python 3 (ipykernel)",
   "language": "python",
   "name": "python3"
  },
  "language_info": {
   "codemirror_mode": {
    "name": "ipython",
    "version": 3
   },
   "file_extension": ".py",
   "mimetype": "text/x-python",
   "name": "python",
   "nbconvert_exporter": "python",
   "pygments_lexer": "ipython3",
   "version": "3.12.7"
  }
 },
 "nbformat": 4,
 "nbformat_minor": 5
}
