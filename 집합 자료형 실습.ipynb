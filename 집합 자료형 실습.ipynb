{
 "cells": [
  {
   "cell_type": "code",
   "execution_count": 3,
   "id": "c064caf6-5166-47ef-bef4-3a1b52a75649",
   "metadata": {},
   "outputs": [],
   "source": [
    "#집합 자료형 - 중복된 데이터를 없애고 고유한 데이터만 봐야할떄\n",
    "# 즉, 중복을 허용하지 않음\n",
    "# 1. 순서가 없다.\n",
    "A= {1,2,3,4,5,6}\n",
    "B= {4,5,6,7,8,9}"
   ]
  },
  {
   "cell_type": "code",
   "execution_count": 7,
   "id": "248f4996-11fa-4a39-a3ce-4d975597aecb",
   "metadata": {},
   "outputs": [
    {
     "name": "stdout",
     "output_type": "stream",
     "text": [
      "{4, 5, 6}\n",
      "{1, 2, 3, 4, 5, 6, 7, 8, 9}\n",
      "{1, 2, 3, 7, 8, 9}\n"
     ]
    }
   ],
   "source": [
    "#교집합 , 합, 대칭 차집합(합집합에서 교집합 뺀것)\n",
    "print(A & B) \n",
    "print(A | B)\n",
    "print(A ^ B)"
   ]
  },
  {
   "cell_type": "code",
   "execution_count": 2,
   "id": "c71d03fc-93dd-41d5-b83d-1a180a4fed42",
   "metadata": {},
   "outputs": [],
   "source": [
    "C={} #비어있으면 딕셔너리로 만들어짐\n",
    "D= set() #이렇게 해야 집합"
   ]
  },
  {
   "cell_type": "code",
   "execution_count": 8,
   "id": "5a73e48d-d7e2-4cad-a612-95df6a35256f",
   "metadata": {},
   "outputs": [
    {
     "data": {
      "text/plain": [
       "{1, 2, 3, 4, 5, 6, 7}"
      ]
     },
     "execution_count": 8,
     "metadata": {},
     "output_type": "execute_result"
    }
   ],
   "source": [
    "A.add(7)\n",
    "A"
   ]
  },
  {
   "cell_type": "code",
   "execution_count": 9,
   "id": "930ccedf-0c4c-4234-9e0b-6b05fbf1cba8",
   "metadata": {},
   "outputs": [
    {
     "data": {
      "text/plain": [
       "{1, 2, 3, 4, 5, 6, 7, 8, 9, 10}"
      ]
     },
     "execution_count": 9,
     "metadata": {},
     "output_type": "execute_result"
    }
   ],
   "source": [
    "A.update([7,8,9,10]) #한번에 여러개의 값 추가\n",
    "A"
   ]
  },
  {
   "cell_type": "code",
   "execution_count": 10,
   "id": "a3cc47f7-0227-47e5-be6d-f3f325689111",
   "metadata": {},
   "outputs": [
    {
     "data": {
      "text/plain": [
       "{1, 2, 3, 4, 5, 6, 7, 8, 9}"
      ]
     },
     "execution_count": 10,
     "metadata": {},
     "output_type": "execute_result"
    }
   ],
   "source": [
    "A.remove(10)\n",
    "A"
   ]
  },
  {
   "cell_type": "code",
   "execution_count": 11,
   "id": "f658c583-7289-43d1-932f-5892a1f043df",
   "metadata": {},
   "outputs": [
    {
     "data": {
      "text/plain": [
       "True"
      ]
     },
     "execution_count": 11,
     "metadata": {},
     "output_type": "execute_result"
    }
   ],
   "source": [
    "A={1,2,3}\n",
    "B={1,2,3,4}\n",
    "\n",
    "A<=B #부분집합이라"
   ]
  },
  {
   "cell_type": "code",
   "execution_count": 12,
   "id": "d22a1fa5-a54f-4e04-867e-954113c521fb",
   "metadata": {},
   "outputs": [
    {
     "data": {
      "text/plain": [
       "True"
      ]
     },
     "execution_count": 12,
     "metadata": {},
     "output_type": "execute_result"
    }
   ],
   "source": [
    "# 서로소임\n",
    "A={1,2}\n",
    "B={3,4}\n",
    "\n",
    "A.isdisjoint(B)"
   ]
  },
  {
   "cell_type": "code",
   "execution_count": null,
   "id": "5ddbe79a-af4b-4238-9972-b40e3d481f98",
   "metadata": {},
   "outputs": [],
   "source": []
  },
  {
   "cell_type": "code",
   "execution_count": null,
   "id": "af0ec895-83d4-4a37-b278-7eee105f6538",
   "metadata": {},
   "outputs": [],
   "source": []
  },
  {
   "cell_type": "code",
   "execution_count": null,
   "id": "36d16cde-383f-4d4a-977c-dddc238b63eb",
   "metadata": {},
   "outputs": [],
   "source": []
  },
  {
   "cell_type": "code",
   "execution_count": null,
   "id": "fb5c755d-227b-46e3-b87c-4011ec83c369",
   "metadata": {},
   "outputs": [],
   "source": []
  },
  {
   "cell_type": "code",
   "execution_count": null,
   "id": "cf9d463f-5fab-42e8-85f1-df01c3951993",
   "metadata": {},
   "outputs": [],
   "source": []
  },
  {
   "cell_type": "code",
   "execution_count": null,
   "id": "e9d7a17c-50f2-43be-984f-9f9cc723a78c",
   "metadata": {},
   "outputs": [],
   "source": []
  },
  {
   "cell_type": "code",
   "execution_count": null,
   "id": "5db9740b-bb83-4741-b5f7-ec722410a0ff",
   "metadata": {},
   "outputs": [],
   "source": []
  }
 ],
 "metadata": {
  "kernelspec": {
   "display_name": "Python 3 (ipykernel)",
   "language": "python",
   "name": "python3"
  },
  "language_info": {
   "codemirror_mode": {
    "name": "ipython",
    "version": 3
   },
   "file_extension": ".py",
   "mimetype": "text/x-python",
   "name": "python",
   "nbconvert_exporter": "python",
   "pygments_lexer": "ipython3",
   "version": "3.12.7"
  }
 },
 "nbformat": 4,
 "nbformat_minor": 5
}
