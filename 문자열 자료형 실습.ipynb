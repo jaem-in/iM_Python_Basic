{
 "cells": [
  {
   "cell_type": "code",
   "execution_count": 17,
   "id": "50d2f73d-2eab-4a01-896b-92b828411a1b",
   "metadata": {},
   "outputs": [
    {
     "name": "stdout",
     "output_type": "stream",
     "text": [
      "python \"is\" t\to\to fun\n",
      " 이건 3개로 되어있어서 '\n",
      "\n",
      "상관' 없음\n"
     ]
    }
   ],
   "source": [
    "a=\"python \\\"is\\\" t\\to\\to fun\"\n",
    "b='python \"is\" too fun'\n",
    "c=\"\"\" 이건 3개로 되어있어서 '\n",
    "\n",
    "상관' 없음\"\"\"\n",
    "a==b\n",
    "\n",
    "print(a)\n",
    "print(c)"
   ]
  },
  {
   "cell_type": "code",
   "execution_count": 19,
   "id": "2ec9bbda-a733-40a0-8133-bc4b8957cdbd",
   "metadata": {},
   "outputs": [
    {
     "data": {
      "text/plain": [
       "'n'"
      ]
     },
     "execution_count": 19,
     "metadata": {},
     "output_type": "execute_result"
    }
   ],
   "source": [
    "a='python is too fun'\n",
    "#접근 a의 0번째에 접근한다\n",
    "# 하나씩 접근: 인덱싱\n",
    "a[0]\n",
    "a[-1] #뒤에서 부터\n"
   ]
  },
  {
   "cell_type": "code",
   "execution_count": 28,
   "id": "f21a94bd-16b9-4a8a-bc3e-4f0c201de9e9",
   "metadata": {},
   "outputs": [
    {
     "name": "stdout",
     "output_type": "stream",
     "text": [
      "thon i\n",
      "python i\n",
      "thon is too fun\n",
      "to s\n"
     ]
    },
    {
     "data": {
      "text/plain": [
       "'nuf oot si nohtyp'"
      ]
     },
     "execution_count": 28,
     "metadata": {},
     "output_type": "execute_result"
    }
   ],
   "source": [
    "#여러개 접근: 슬라이싱\n",
    "print(a[2:8]) #2번째부터 8번째 전까지\n",
    "print(a[:8])\n",
    "print(a[2:])\n",
    "print(a[2:10:2]) #2씩 증가시키면서 접근 - 2468에 접근\n",
    "a[::-1] #역행으로 출력"
   ]
  },
  {
   "cell_type": "code",
   "execution_count": 39,
   "id": "77e78e42-a829-4b24-afb3-d5453e96d0be",
   "metadata": {},
   "outputs": [
    {
     "name": "stdout",
     "output_type": "stream",
     "text": [
      "python is too fun\n"
     ]
    }
   ],
   "source": [
    "a=\"python\"\n",
    "b=\"is too fun\"\n",
    "print(a+\" \"+b)\n",
    "(a+\" \")*3\n",
    "a=a+\" \"+b"
   ]
  },
  {
   "cell_type": "code",
   "execution_count": 40,
   "id": "f3f5a49e-f1c6-4f43-9316-46ab1d127389",
   "metadata": {},
   "outputs": [
    {
     "data": {
      "text/plain": [
       "17"
      ]
     },
     "execution_count": 40,
     "metadata": {},
     "output_type": "execute_result"
    }
   ],
   "source": [
    "len(a) #길이 "
   ]
  },
  {
   "cell_type": "code",
   "execution_count": 47,
   "id": "b2a56462-bbbc-4311-91a1-58d85b09bb6d",
   "metadata": {},
   "outputs": [
    {
     "name": "stdout",
     "output_type": "stream",
     "text": [
      "Python is too fun\n",
      "Python Is Too Fun\n",
      "PYTHON IS TOO FUN\n"
     ]
    }
   ],
   "source": [
    "#문자열.함수() - 문자열 전용 함수\n",
    "# print(), max(), min() - 내장함수\n",
    "a.upper()\n",
    "a.lower()\n",
    "print(a.capitalize())\n",
    "print(a.title())\n",
    "print(a.swapcase())  # 소->대, 대->소"
   ]
  },
  {
   "cell_type": "code",
   "execution_count": 56,
   "id": "ff0d2928-96b6-40bc-aba4-71b70964ceee",
   "metadata": {},
   "outputs": [
    {
     "name": "stdout",
     "output_type": "stream",
     "text": [
      "python              \n",
      "python\n",
      "            python\n",
      "python\n"
     ]
    }
   ],
   "source": [
    "a=\"            python              \"\n",
    "b=\"python_____________\"\n",
    "print(a.lstrip())\n",
    "print(a.strip())\n",
    "print(a.rstrip())\n",
    "print(b.strip('_'))"
   ]
  },
  {
   "cell_type": "code",
   "execution_count": 73,
   "id": "77ec628d-f32b-43ba-b497-679b29980369",
   "metadata": {},
   "outputs": [
    {
     "name": "stdout",
     "output_type": "stream",
     "text": [
      "['python', 'is', 'too', 'fun']\n"
     ]
    }
   ],
   "source": [
    "a='python is too fun'  # split 괄호안의 문자 기준으로 구분 없으면 공백단위\n",
    "print(a.split())\n",
    "\n",
    "b='python,is,too,fun'\n",
    "b=b.split(',')"
   ]
  },
  {
   "cell_type": "code",
   "execution_count": 64,
   "id": "e7f02edc-076a-4d2d-af92-723affac4347",
   "metadata": {},
   "outputs": [
    {
     "data": {
      "text/plain": [
       "'A@b@c@d@e'"
      ]
     },
     "execution_count": 64,
     "metadata": {},
     "output_type": "execute_result"
    }
   ],
   "source": [
    "\"@\".join(\"Abcde\") #사이사이 끼워넣음"
   ]
  },
  {
   "cell_type": "code",
   "execution_count": 74,
   "id": "7fa3da96-a061-4a0b-ad09-0ae18880cb0a",
   "metadata": {},
   "outputs": [
    {
     "data": {
      "text/plain": [
       "'python -> is -> too -> fun'"
      ]
     },
     "execution_count": 74,
     "metadata": {},
     "output_type": "execute_result"
    }
   ],
   "source": [
    "\" -> \".join(b)"
   ]
  },
  {
   "cell_type": "code",
   "execution_count": 71,
   "id": "5ae6025e-9012-4b11-998b-1a759c274f1c",
   "metadata": {},
   "outputs": [
    {
     "name": "stdout",
     "output_type": "stream",
     "text": [
      "java is too fun\n"
     ]
    }
   ],
   "source": [
    "a=a.replace(\"python\",\"java\")\n",
    "print(a)"
   ]
  },
  {
   "cell_type": "code",
   "execution_count": 76,
   "id": "c330a46b-cc7c-492d-b92a-3e34607ac0eb",
   "metadata": {},
   "outputs": [
    {
     "data": {
      "text/plain": [
       "'나의 이름은 홍길동이고, 24.22살입니다.'"
      ]
     },
     "execution_count": 76,
     "metadata": {},
     "output_type": "execute_result"
    }
   ],
   "source": [
    "name=\"홍길동\"\n",
    "age=24.22222222222222222\n",
    "f\"나의 이름은 {name}이고, {age:.2f}살입니다.\""
   ]
  },
  {
   "cell_type": "code",
   "execution_count": 84,
   "id": "06790912-9aa9-411b-956b-9f13be0bc63c",
   "metadata": {},
   "outputs": [
    {
     "name": "stdout",
     "output_type": "stream",
     "text": [
      "True\n",
      "True\n",
      "True\n",
      "False\n"
     ]
    }
   ],
   "source": [
    "print(\"hello\".isalpha())\n",
    "#한글도 isalpha 가능\n",
    "print(\"1\".isdigit())\n",
    "print(\"dadd2222\".isalnum())\n",
    "print(\"dddd\".isupper())"
   ]
  },
  {
   "cell_type": "code",
   "execution_count": null,
   "id": "461800ac-d4e6-46aa-a1cf-46067b0f04a4",
   "metadata": {},
   "outputs": [],
   "source": []
  },
  {
   "cell_type": "code",
   "execution_count": null,
   "id": "d8a62639-f602-41f1-8561-59c391ff3b8e",
   "metadata": {},
   "outputs": [],
   "source": []
  },
  {
   "cell_type": "code",
   "execution_count": null,
   "id": "9ef162b6-3b8b-4471-bc26-7f9f4638743e",
   "metadata": {},
   "outputs": [],
   "source": []
  },
  {
   "cell_type": "code",
   "execution_count": null,
   "id": "d1b8e073-b696-45ef-8e30-149863191f02",
   "metadata": {},
   "outputs": [],
   "source": []
  },
  {
   "cell_type": "code",
   "execution_count": null,
   "id": "db3b6a4b-61a0-4c8a-925d-a49c21e40ad5",
   "metadata": {},
   "outputs": [],
   "source": []
  },
  {
   "cell_type": "code",
   "execution_count": null,
   "id": "bd5c6e82-df3c-4494-a1e4-83384916162b",
   "metadata": {},
   "outputs": [],
   "source": []
  }
 ],
 "metadata": {
  "kernelspec": {
   "display_name": "Python 3 (ipykernel)",
   "language": "python",
   "name": "python3"
  },
  "language_info": {
   "codemirror_mode": {
    "name": "ipython",
    "version": 3
   },
   "file_extension": ".py",
   "mimetype": "text/x-python",
   "name": "python",
   "nbconvert_exporter": "python",
   "pygments_lexer": "ipython3",
   "version": "3.12.7"
  }
 },
 "nbformat": 4,
 "nbformat_minor": 5
}
