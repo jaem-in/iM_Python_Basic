{
 "cells": [
  {
   "cell_type": "markdown",
   "id": "3dc92bad-886c-4521-bd5f-d5c1e5774485",
   "metadata": {},
   "source": [
    "# while문이란?\n",
    "* while문은 주어진 조건식이 참(True) 인 동안 반복해서 코드를 실행하는 구문입니다.\n",
    "* 조건이 한 번도 거짓(False)이 되지 않으면 무한 반복에 빠질 수 있으므로, 반드시 조건이 거짓이 되는 시점이 있어야 합니다.\n",
    "\n",
    "```\n",
    "while 조건식:\n",
    "    # 조건이 참인 동안 반복 실행할 코드\n",
    "```\n",
    "\n",
    "* 조건식이 참인 동안 계속 반복문 안의 코드를 실행하고,\n",
    "* 조건식이 거짓이 되면(False) 반복문을 탈출(종료)합니다."
   ]
  },
  {
   "cell_type": "markdown",
   "id": "afa2bd3c-e4b0-47a7-91d9-600439564246",
   "metadata": {},
   "source": [
    "## 1. while문의 동작 방식\n",
    "\n",
    "### 조건식 평가\n",
    "* while문은 먼저 조건식을 평가합니다.\n",
    "* 조건식이 True면 반복문 내 코드를 실행하고, 반복 끝나면 다시 조건식으로 돌아갑니다.\n",
    "* 조건식이 False가 되면 반복문을 종료합니다.\n",
    "\n",
    "### 반복 종료 시점\n",
    "* 반복 변수(예: count)를 적절히 업데이트하지 않으면 무한 루프가 발생할 수 있습니다.\n",
    "* 예) count = count + 1 등을 통해 조건을 변화시켜야 합니다.\n"
   ]
  },
  {
   "cell_type": "code",
   "execution_count": 1,
   "id": "b38d10b1-aed1-4fee-9fd5-91a15bee418f",
   "metadata": {},
   "outputs": [
    {
     "name": "stdout",
     "output_type": "stream",
     "text": [
      "카운트: 5\n",
      "카운트: 4\n",
      "카운트: 3\n",
      "카운트: 2\n",
      "카운트: 1\n",
      "반복 종료!\n"
     ]
    }
   ],
   "source": [
    "count = 5\n",
    "\n",
    "while count > 0:\n",
    "    print(\"카운트:\", count)\n",
    "    count -= 1  # count를 1씩 감소\n",
    "\n",
    "print(\"반복 종료!\")"
   ]
  },
  {
   "cell_type": "markdown",
   "id": "0f37ce02-f445-4512-892b-3b42cee28e19",
   "metadata": {},
   "source": [
    "* 누적 합 계산 예시"
   ]
  },
  {
   "cell_type": "code",
   "execution_count": 2,
   "id": "abc8fe7e-cb96-47f5-ba28-db9648746e1d",
   "metadata": {},
   "outputs": [
    {
     "name": "stdout",
     "output_type": "stream",
     "text": [
      "1부터 5까지의 합: 15\n"
     ]
    }
   ],
   "source": [
    "num = 1\n",
    "total = 0\n",
    "\n",
    "while num <= 5:\n",
    "    total += num\n",
    "    num += 1\n",
    "\n",
    "print(\"1부터 5까지의 합:\", total)\n",
    "# 출력: 1부터 5까지의 합: 15"
   ]
  },
  {
   "cell_type": "markdown",
   "id": "5bf9b95b-8870-41a6-a4f4-0cef68360c33",
   "metadata": {},
   "source": [
    "## 2. 무한 루프와 break, continue\n",
    "### 무한 루프(Infinite Loop)\n",
    "* 조건식이 절대 거짓이 되지 않거나, 혹은 while True:처럼 항상 참이 되는 형태.\n",
    "* 종종 의도적으로 무한 루프를 만든 뒤, 내부에서 if 조건을 만족하면 break로 빠져나오는 식으로 사용합니다.\n",
    "\n",
    "```\n",
    "while True:\n",
    "    # 무한 반복\n",
    "    ...\n",
    "```"
   ]
  },
  {
   "cell_type": "markdown",
   "id": "cab998bf-7cb3-488f-8900-1406383cf2dd",
   "metadata": {},
   "source": [
    "### break\n",
    "* break 문은 반복문을 즉시 종료하고 빠져나갈 때 사용합니다."
   ]
  },
  {
   "cell_type": "code",
   "execution_count": 3,
   "id": "6bb73526-338a-4529-b00f-67ff3d6e9c52",
   "metadata": {},
   "outputs": [
    {
     "name": "stdout",
     "output_type": "stream",
     "text": [
      "1\n",
      "2\n",
      "3\n",
      "4\n",
      "5\n"
     ]
    }
   ],
   "source": [
    "count = 0\n",
    "while True:\n",
    "    count += 1\n",
    "    print(count)\n",
    "    if count == 5:\n",
    "        break  # 반복문 즉시 종료"
   ]
  },
  {
   "cell_type": "markdown",
   "id": "bc45765b-03cf-4e25-b72e-24b11d5601bb",
   "metadata": {},
   "source": [
    "### continue\n",
    "* continue 문은 반복문의 아래 구문을 건너뛰고 바로 조건 검사로 돌아갑니다. 즉, 현재 반복만 스킵하고, 다음 반복을 계속 진행합니다."
   ]
  },
  {
   "cell_type": "code",
   "execution_count": 4,
   "id": "a15255a0-8cab-4160-a081-5beef183b3d7",
   "metadata": {},
   "outputs": [
    {
     "name": "stdout",
     "output_type": "stream",
     "text": [
      "1\n",
      "3\n",
      "5\n"
     ]
    }
   ],
   "source": [
    "num = 0\n",
    "while num < 5:\n",
    "    num += 1\n",
    "    if num % 2 == 0:\n",
    "        continue  # 짝수면 아래 코드 스킵 -> 다음 반복\n",
    "    print(num)  # 짝수가 아닌 경우(홀수)에만 출력"
   ]
  },
  {
   "cell_type": "markdown",
   "id": "56432311-c792-4c2c-a927-4ee9979b9544",
   "metadata": {},
   "source": [
    "### while ~ else 구조\n",
    "* 파이썬의 while문에는 선택적으로 else 절을 붙일 수 있습니다.\n",
    "* while 반복문이 정상적으로 종료되면(break 없이 조건이 거짓이 되어 종료) else 블록이 실행됩니다.\n",
    "* 만약 중간에 break로 빠져나오면 else 블록은 실행되지 않습니다."
   ]
  },
  {
   "cell_type": "code",
   "execution_count": 5,
   "id": "e850edea-81d8-4ba5-96cf-62a642c6ff00",
   "metadata": {},
   "outputs": [
    {
     "name": "stdout",
     "output_type": "stream",
     "text": [
      "카운트: 3\n",
      "카운트: 2\n"
     ]
    }
   ],
   "source": [
    "count = 3\n",
    "while count > 0:\n",
    "    print(\"카운트:\", count)\n",
    "    count -= 1\n",
    "    if count == 1:\n",
    "        break\n",
    "else:\n",
    "    # while이 break 없이 끝까지 정상 실행된 경우만 실행\n",
    "    print(\"정상 종료!\")"
   ]
  },
  {
   "cell_type": "markdown",
   "id": "cf59df3b-f703-4ba4-afe3-2878187f82d7",
   "metadata": {},
   "source": [
    "## 연습문제\n",
    "1. 변수 i를 1로 초기화하고, while문을 사용하여 i가 5 이하일 때마다 i의 값을 출력한 후, i를 1씩 증가시키는 코드를 작성하세요."
   ]
  },
  {
   "cell_type": "code",
   "execution_count": 1,
   "id": "45fb68e3-93c1-45d6-9189-a8d728590b7b",
   "metadata": {},
   "outputs": [
    {
     "name": "stdout",
     "output_type": "stream",
     "text": [
      "1\n",
      "2\n",
      "3\n",
      "4\n",
      "5\n"
     ]
    }
   ],
   "source": [
    "i=1\n",
    "while i<=5:\n",
    "    print(i)\n",
    "    i+=1\n",
    "    "
   ]
  },
  {
   "cell_type": "markdown",
   "id": "634c68f6-72e5-48a9-ac70-ae00842f9343",
   "metadata": {},
   "source": [
    "2. 변수 num을 2로 초기화한 후, while문을 사용하여 num이 10 이하인 동안 num을 출력하고, 매 반복마다 num에 2를 더하는 코드를 작성하세요."
   ]
  },
  {
   "cell_type": "code",
   "execution_count": 3,
   "id": "2c9bad28-6c03-4ffe-b594-c4cfd2cb0312",
   "metadata": {},
   "outputs": [
    {
     "name": "stdout",
     "output_type": "stream",
     "text": [
      "2\n",
      "4\n",
      "6\n",
      "8\n",
      "10\n"
     ]
    }
   ],
   "source": [
    "num=2\n",
    "while num<=10:\n",
    "    print(num)\n",
    "    num+=2"
   ]
  },
  {
   "cell_type": "markdown",
   "id": "9f5700f4-e8f4-4b82-9b26-805723730427",
   "metadata": {},
   "source": [
    "3. 사용자로부터 정수 n을 입력받고, while문을 사용하여 1부터 n까지의 합을 구한 후 출력하는 코드를 작성하세요.  \n",
    "예를 들어, n이 5라면 1+2+3+4+5 = 15가 출력되어야 합니다."
   ]
  },
  {
   "cell_type": "code",
   "execution_count": 5,
   "id": "94a78826-3af7-410f-95cb-3921895b8a8f",
   "metadata": {},
   "outputs": [
    {
     "name": "stdin",
     "output_type": "stream",
     "text": [
      "입력:  10\n"
     ]
    },
    {
     "name": "stdout",
     "output_type": "stream",
     "text": [
      "1\n",
      "2\n",
      "3\n",
      "4\n",
      "5\n",
      "6\n",
      "7\n",
      "8\n",
      "9\n",
      "10\n",
      "55\n"
     ]
    }
   ],
   "source": [
    "n=int(input(\"입력: \"))\n",
    "i=1\n",
    "sum=0\n",
    "while True:\n",
    "    print(i)\n",
    "    sum+=i\n",
    "    i+=1\n",
    "    if i>n:\n",
    "        print(sum)\n",
    "        break\n",
    "    "
   ]
  },
  {
   "cell_type": "markdown",
   "id": "b22bb8fa-c92a-434f-b874-c3cfb56a9b02",
   "metadata": {},
   "source": [
    "4. 사용자로부터 정수 n을 입력받고, while문을 사용하여 n! (팩토리얼)을 계산한 후 출력하는 코드를 작성하세요.  \n",
    "예를 들어, n이 4이면 4! = 4×3×2×1 = 24가 출력되어야 합니다."
   ]
  },
  {
   "cell_type": "code",
   "execution_count": 7,
   "id": "1f2e3470-2b74-4dca-b790-7fea97389977",
   "metadata": {},
   "outputs": [
    {
     "name": "stdin",
     "output_type": "stream",
     "text": [
      "입력:  4\n"
     ]
    },
    {
     "name": "stdout",
     "output_type": "stream",
     "text": [
      "24\n"
     ]
    }
   ],
   "source": [
    "n=int(input(\"입력: \"))\n",
    "i=1\n",
    "mult=1\n",
    "while True:\n",
    "    mult*=i\n",
    "    if i==n:\n",
    "        print(mult)\n",
    "        break\n",
    "    i+=1\n",
    "    "
   ]
  },
  {
   "cell_type": "markdown",
   "id": "a0073d34-99d2-434b-a43f-1099629e2717",
   "metadata": {},
   "source": [
    "5. while문을 사용하여 사용자로부터 문자열을 입력받습니다. 입력된 문자열이 \"exit\"가 되면 반복문을 종료하고, 그 전까지는 입력받은 문자열을 계속 출력하는 코드를 작성하세요."
   ]
  },
  {
   "cell_type": "code",
   "execution_count": 17,
   "id": "c68eb6f6-5bb3-4811-a6f6-6ec1573ea5c9",
   "metadata": {},
   "outputs": [
    {
     "name": "stdin",
     "output_type": "stream",
     "text": [
      "입력:  55\n"
     ]
    },
    {
     "name": "stdout",
     "output_type": "stream",
     "text": [
      "       55\n"
     ]
    },
    {
     "name": "stdin",
     "output_type": "stream",
     "text": [
      "입력:  55\n"
     ]
    },
    {
     "name": "stdout",
     "output_type": "stream",
     "text": [
      "       55\n"
     ]
    },
    {
     "ename": "KeyboardInterrupt",
     "evalue": "Interrupted by user",
     "output_type": "error",
     "traceback": [
      "\u001b[1;31m---------------------------------------------------------------------------\u001b[0m",
      "\u001b[1;31mKeyboardInterrupt\u001b[0m                         Traceback (most recent call last)",
      "Cell \u001b[1;32mIn[17], line 2\u001b[0m\n\u001b[0;32m      1\u001b[0m \u001b[38;5;28;01mwhile\u001b[39;00m \u001b[38;5;28;01mTrue\u001b[39;00m:\n\u001b[1;32m----> 2\u001b[0m     t\u001b[38;5;241m=\u001b[39m\u001b[38;5;28minput\u001b[39m(\u001b[38;5;124m\"\u001b[39m\u001b[38;5;124m입력: \u001b[39m\u001b[38;5;124m\"\u001b[39m)\n\u001b[0;32m      3\u001b[0m     \u001b[38;5;28;01mif\u001b[39;00m t\u001b[38;5;241m==\u001b[39m\u001b[38;5;124m\"\u001b[39m\u001b[38;5;124mexit\u001b[39m\u001b[38;5;124m\"\u001b[39m:\n\u001b[0;32m      4\u001b[0m         \u001b[38;5;28;01mbreak\u001b[39;00m\n",
      "File \u001b[1;32m~\\anaconda3\\Lib\\site-packages\\ipykernel\\kernelbase.py:1262\u001b[0m, in \u001b[0;36mKernel.raw_input\u001b[1;34m(self, prompt)\u001b[0m\n\u001b[0;32m   1260\u001b[0m     msg \u001b[38;5;241m=\u001b[39m \u001b[38;5;124m\"\u001b[39m\u001b[38;5;124mraw_input was called, but this frontend does not support input requests.\u001b[39m\u001b[38;5;124m\"\u001b[39m\n\u001b[0;32m   1261\u001b[0m     \u001b[38;5;28;01mraise\u001b[39;00m StdinNotImplementedError(msg)\n\u001b[1;32m-> 1262\u001b[0m \u001b[38;5;28;01mreturn\u001b[39;00m \u001b[38;5;28mself\u001b[39m\u001b[38;5;241m.\u001b[39m_input_request(\n\u001b[0;32m   1263\u001b[0m     \u001b[38;5;28mstr\u001b[39m(prompt),\n\u001b[0;32m   1264\u001b[0m     \u001b[38;5;28mself\u001b[39m\u001b[38;5;241m.\u001b[39m_parent_ident[\u001b[38;5;124m\"\u001b[39m\u001b[38;5;124mshell\u001b[39m\u001b[38;5;124m\"\u001b[39m],\n\u001b[0;32m   1265\u001b[0m     \u001b[38;5;28mself\u001b[39m\u001b[38;5;241m.\u001b[39mget_parent(\u001b[38;5;124m\"\u001b[39m\u001b[38;5;124mshell\u001b[39m\u001b[38;5;124m\"\u001b[39m),\n\u001b[0;32m   1266\u001b[0m     password\u001b[38;5;241m=\u001b[39m\u001b[38;5;28;01mFalse\u001b[39;00m,\n\u001b[0;32m   1267\u001b[0m )\n",
      "File \u001b[1;32m~\\anaconda3\\Lib\\site-packages\\ipykernel\\kernelbase.py:1305\u001b[0m, in \u001b[0;36mKernel._input_request\u001b[1;34m(self, prompt, ident, parent, password)\u001b[0m\n\u001b[0;32m   1302\u001b[0m \u001b[38;5;28;01mexcept\u001b[39;00m \u001b[38;5;167;01mKeyboardInterrupt\u001b[39;00m:\n\u001b[0;32m   1303\u001b[0m     \u001b[38;5;66;03m# re-raise KeyboardInterrupt, to truncate traceback\u001b[39;00m\n\u001b[0;32m   1304\u001b[0m     msg \u001b[38;5;241m=\u001b[39m \u001b[38;5;124m\"\u001b[39m\u001b[38;5;124mInterrupted by user\u001b[39m\u001b[38;5;124m\"\u001b[39m\n\u001b[1;32m-> 1305\u001b[0m     \u001b[38;5;28;01mraise\u001b[39;00m \u001b[38;5;167;01mKeyboardInterrupt\u001b[39;00m(msg) \u001b[38;5;28;01mfrom\u001b[39;00m \u001b[38;5;28;01mNone\u001b[39;00m\n\u001b[0;32m   1306\u001b[0m \u001b[38;5;28;01mexcept\u001b[39;00m \u001b[38;5;167;01mException\u001b[39;00m:\n\u001b[0;32m   1307\u001b[0m     \u001b[38;5;28mself\u001b[39m\u001b[38;5;241m.\u001b[39mlog\u001b[38;5;241m.\u001b[39mwarning(\u001b[38;5;124m\"\u001b[39m\u001b[38;5;124mInvalid Message:\u001b[39m\u001b[38;5;124m\"\u001b[39m, exc_info\u001b[38;5;241m=\u001b[39m\u001b[38;5;28;01mTrue\u001b[39;00m)\n",
      "\u001b[1;31mKeyboardInterrupt\u001b[0m: Interrupted by user"
     ]
    }
   ],
   "source": [
    "while True:\n",
    "    t=input(\"입력: \")\n",
    "    if t==\"exit\":\n",
    "        break\n",
    "    print(\"       \"+t)"
   ]
  },
  {
   "cell_type": "markdown",
   "id": "30f5d0c1-be54-49c7-a735-6e383b6c84ba",
   "metadata": {},
   "source": [
    "6. 사용자로부터 양의 정수를 입력받고, while문을 사용하여 그 정수의 자릿수가 몇 개인지 계산한 후 출력하는 코드를 작성하세요.  \n",
    "힌트: 정수를 10으로 나누면서 몫이 0이 될 때까지 반복하세요."
   ]
  },
  {
   "cell_type": "code",
   "execution_count": 12,
   "id": "53c9bf0f-7c90-44bd-b249-586fcc4eda25",
   "metadata": {},
   "outputs": [
    {
     "name": "stdin",
     "output_type": "stream",
     "text": [
      "입력:  111\n"
     ]
    },
    {
     "name": "stdout",
     "output_type": "stream",
     "text": [
      "3\n"
     ]
    }
   ],
   "source": [
    "n=int(input(\"입력: \"))\n",
    "cnt=0\n",
    "while True:\n",
    "    n=n//10\n",
    "    cnt+=1\n",
    "    if n==0:\n",
    "        print(cnt)\n",
    "        break\n",
    "    \n",
    "    "
   ]
  },
  {
   "cell_type": "markdown",
   "id": "ae55b00f-5b18-4ee1-b456-80b967236fc7",
   "metadata": {},
   "source": [
    "7. 사용자로부터 양의 정수를 입력받고, while문을 사용하여 정수의 각 자리수를 오른쪽(일의 자리)부터 한 줄씩 출력하는 코드를 작성하세요.  \n",
    "힌트: 정수를 10으로 나눈 나머지를 이용하세요."
   ]
  },
  {
   "cell_type": "code",
   "execution_count": 15,
   "id": "6daafd0e-d369-4c6c-a4fc-39cff93fa9a8",
   "metadata": {},
   "outputs": [
    {
     "name": "stdin",
     "output_type": "stream",
     "text": [
      "입력 12345\n"
     ]
    },
    {
     "name": "stdout",
     "output_type": "stream",
     "text": [
      "5\n",
      "4\n",
      "3\n",
      "2\n",
      "1\n"
     ]
    }
   ],
   "source": [
    "n=int(input(\"입력\"))\n",
    "while True:\n",
    "    print(n%10)\n",
    "    n=n//10\n",
    "    if n==0:\n",
    "        break\n"
   ]
  },
  {
   "cell_type": "markdown",
   "id": "ec3899b8-c2ef-4f74-bfb9-850316b01af9",
   "metadata": {},
   "source": [
    "8. 사용자로부터 양의 정수를 입력받고, while문을 사용하여 입력된 정수의 숫자 순서를 뒤집은 결과를 출력하는 코드를 작성하세요.  \n",
    "예를 들어, 입력이 1234이면 출력은 4321이어야 합니다."
   ]
  },
  {
   "cell_type": "code",
   "execution_count": 21,
   "id": "cdf2cffa-b39c-403f-9946-712fbd3b9fed",
   "metadata": {},
   "outputs": [
    {
     "name": "stdin",
     "output_type": "stream",
     "text": [
      "입력 12345\n"
     ]
    },
    {
     "name": "stdout",
     "output_type": "stream",
     "text": [
      "54321"
     ]
    },
    {
     "data": {
      "text/plain": [
       "'\\nprintInt=n\\ncnt=0\\nwhile True:\\n    n=n//10\\n    cnt+=1\\n    if n==0:\\n        break\\n\\nresult=0\\nwhile cnt>0:\\n    result+=(printInt%10)*10**(cnt-1)\\n    printInt=printInt//10\\n    cnt-=1\\nresult\\n'"
      ]
     },
     "execution_count": 21,
     "metadata": {},
     "output_type": "execute_result"
    }
   ],
   "source": [
    "n=int(input(\"입력\"))\n",
    "\n",
    "while True:\n",
    "    print(n%10,end=\"\")\n",
    "    n=n//10\n",
    "    if n==0:\n",
    "        break\n",
    "\n",
    "\n",
    "'''\n",
    "printInt=n\n",
    "cnt=0\n",
    "while True:\n",
    "    n=n//10\n",
    "    cnt+=1\n",
    "    if n==0:\n",
    "        break\n",
    "\n",
    "result=0\n",
    "while cnt>0:\n",
    "    result+=(printInt%10)*10**(cnt-1)\n",
    "    printInt=printInt//10\n",
    "    cnt-=1\n",
    "result\n",
    "'''"
   ]
  },
  {
   "cell_type": "code",
   "execution_count": 23,
   "id": "fac29bd6-2c28-4365-9f25-10676196e201",
   "metadata": {},
   "outputs": [
    {
     "name": "stdout",
     "output_type": "stream",
     "text": [
      "4321"
     ]
    }
   ],
   "source": [
    "box =list(str(1234))\n",
    "while box:\n",
    "    a=box.pop()\n",
    "    print(a,end=\"\")"
   ]
  },
  {
   "cell_type": "markdown",
   "id": "120e18ca-f5cf-42e9-bf36-c51fd08e9157",
   "metadata": {},
   "source": [
    "9. while문을 사용하여 1부터 연속된 정수를 더해 나갈 때, 합이 100 이상이 되는 최소의 정수를 찾고, 그 정수와 누적 합을 출력하는 코드를 작성하세요."
   ]
  },
  {
   "cell_type": "code",
   "execution_count": 18,
   "id": "b70773f9-6f0c-467e-989b-b23f19af8517",
   "metadata": {},
   "outputs": [
    {
     "name": "stdout",
     "output_type": "stream",
     "text": [
      "14 105\n"
     ]
    }
   ],
   "source": [
    "i=1\n",
    "sum=0\n",
    "while True:\n",
    "    sum+=i\n",
    "    if sum>=100:\n",
    "        print(i, sum)\n",
    "        break\n",
    "    i+=1"
   ]
  },
  {
   "cell_type": "markdown",
   "id": "e8644e8e-e34d-4090-acb6-efaf5b57441c",
   "metadata": {},
   "source": [
    "10. 1~1000까지 3의 배수의 합을 구하는 코드를 작성하세요. (정답: 166,833)"
   ]
  },
  {
   "cell_type": "code",
   "execution_count": 22,
   "id": "1149b99d-910b-47f6-8219-fc1c74e06469",
   "metadata": {},
   "outputs": [
    {
     "name": "stdout",
     "output_type": "stream",
     "text": [
      "166833\n"
     ]
    }
   ],
   "source": [
    "i=1\n",
    "sum=0\n",
    "while i<=1000:\n",
    "    if i%3==0:\n",
    "        sum+=i\n",
    "    i+=1\n",
    "print(sum)"
   ]
  },
  {
   "cell_type": "code",
   "execution_count": null,
   "id": "8e2bab0e-31f9-4ba6-963b-65a1d5d8a6ee",
   "metadata": {},
   "outputs": [],
   "source": []
  }
 ],
 "metadata": {
  "kernelspec": {
   "display_name": "Python 3 (ipykernel)",
   "language": "python",
   "name": "python3"
  },
  "language_info": {
   "codemirror_mode": {
    "name": "ipython",
    "version": 3
   },
   "file_extension": ".py",
   "mimetype": "text/x-python",
   "name": "python",
   "nbconvert_exporter": "python",
   "pygments_lexer": "ipython3",
   "version": "3.12.7"
  }
 },
 "nbformat": 4,
 "nbformat_minor": 5
}
