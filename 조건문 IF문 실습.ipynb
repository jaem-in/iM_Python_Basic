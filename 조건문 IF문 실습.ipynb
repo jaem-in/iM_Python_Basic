{
 "cells": [
  {
   "cell_type": "code",
   "execution_count": 1,
   "id": "915a08c2-9c32-4879-9961-40e471259e01",
   "metadata": {},
   "outputs": [
    {
     "name": "stdout",
     "output_type": "stream",
     "text": [
      "Taxi\n"
     ]
    }
   ],
   "source": [
    "#조건문 IF문\n",
    "\n",
    "money =True\n",
    "if money == True:\n",
    "    print(\"Taxi\")"
   ]
  },
  {
   "cell_type": "code",
   "execution_count": 10,
   "id": "52c8619e-7d87-49f4-a613-3a7ea1d04ae6",
   "metadata": {},
   "outputs": [
    {
     "name": "stdout",
     "output_type": "stream",
     "text": [
      "walk\n"
     ]
    }
   ],
   "source": [
    "money=2000\n",
    "card=True\n",
    "\n",
    "if money>=3000 and card==True:\n",
    "    print('Taxi')\n",
    "else:\n",
    "    print(\"walk\")\n",
    "    "
   ]
  },
  {
   "cell_type": "code",
   "execution_count": 14,
   "id": "e3e31381-a4af-4392-8419-4308ca3a5f0a",
   "metadata": {},
   "outputs": [
    {
     "name": "stdout",
     "output_type": "stream",
     "text": [
      "taxi\n"
     ]
    }
   ],
   "source": [
    "pocket = ['paper','phone']\n",
    "if \"money\" in pocket:\n",
    "    print('taxi')\n",
    "else:\n",
    "    if card==True:\n",
    "        print(\"taxi\")\n",
    "    else:\n",
    "        print('walk')\n",
    "        "
   ]
  },
  {
   "cell_type": "code",
   "execution_count": 15,
   "id": "0d4e9336-9c95-4534-8961-031d6682737e",
   "metadata": {},
   "outputs": [
    {
     "name": "stdout",
     "output_type": "stream",
     "text": [
      "taxi\n"
     ]
    }
   ],
   "source": [
    "pocket = ['paper','phone']\n",
    "if \"money\" in pocket:\n",
    "    print('taxi')\n",
    "elif card==True:\n",
    "    print('taxi')\n",
    "else:\n",
    "    print('walk')\n",
    "    "
   ]
  },
  {
   "cell_type": "code",
   "execution_count": 19,
   "id": "254f5ced-fb79-4866-9844-9c1d8f9277a6",
   "metadata": {},
   "outputs": [
    {
     "name": "stdout",
     "output_type": "stream",
     "text": [
      "B\n"
     ]
    }
   ],
   "source": [
    "score=88\n",
    "if score>90:\n",
    "    print('A')\n",
    "elif score>80:\n",
    "    print('B')\n",
    "elif score>70:\n",
    "    print('C')\n",
    "elif score>60:\n",
    "    print('D')\n",
    "else:\n",
    "    print(\"F\")\n",
    "\n",
    "    "
   ]
  },
  {
   "cell_type": "code",
   "execution_count": 24,
   "id": "855d8e81-a716-426c-a92d-08fd66e75170",
   "metadata": {},
   "outputs": [
    {
     "name": "stdin",
     "output_type": "stream",
     "text": [
      "성적 입력:  88\n"
     ]
    },
    {
     "name": "stdout",
     "output_type": "stream",
     "text": [
      "합격\n"
     ]
    }
   ],
   "source": [
    "#퀴즈 score가 80이상이면 message변수에 \"합격\"\n",
    "#아니면 불합격\n",
    "score=int(input(\"성적 입력: \"))\n",
    "if score>=80:\n",
    "    message=\"합격\"\n",
    "else:\n",
    "    message=\"불합격\"\n",
    "\n",
    "print(message)\n"
   ]
  },
  {
   "cell_type": "code",
   "execution_count": 27,
   "id": "fa3d2650-6106-4558-9b55-ca3472e8a946",
   "metadata": {},
   "outputs": [
    {
     "data": {
      "text/plain": [
       "'합격'"
      ]
     },
     "execution_count": 27,
     "metadata": {},
     "output_type": "execute_result"
    }
   ],
   "source": [
    "score = 99\n",
    "message=\"합격\" if score >=80 else \"불합격\"\n",
    "message"
   ]
  },
  {
   "cell_type": "code",
   "execution_count": null,
   "id": "d7b822d2-72bc-4bcb-aec5-780cf59d09c2",
   "metadata": {},
   "outputs": [],
   "source": []
  },
  {
   "cell_type": "code",
   "execution_count": null,
   "id": "f3033d79-1ab4-44d4-ac63-86e550bee82a",
   "metadata": {},
   "outputs": [],
   "source": []
  },
  {
   "cell_type": "code",
   "execution_count": null,
   "id": "02c42ee0-443d-4927-9415-b7202c88e87b",
   "metadata": {},
   "outputs": [],
   "source": []
  },
  {
   "cell_type": "code",
   "execution_count": null,
   "id": "8ee0a30c-cd59-4dc7-abbf-322d223ad17f",
   "metadata": {},
   "outputs": [],
   "source": []
  }
 ],
 "metadata": {
  "kernelspec": {
   "display_name": "Python 3 (ipykernel)",
   "language": "python",
   "name": "python3"
  },
  "language_info": {
   "codemirror_mode": {
    "name": "ipython",
    "version": 3
   },
   "file_extension": ".py",
   "mimetype": "text/x-python",
   "name": "python",
   "nbconvert_exporter": "python",
   "pygments_lexer": "ipython3",
   "version": "3.12.7"
  }
 },
 "nbformat": 4,
 "nbformat_minor": 5
}
