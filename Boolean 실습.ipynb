{
 "cells": [
  {
   "cell_type": "code",
   "execution_count": 2,
   "id": "390c2105-7492-4d9b-834b-5f1bfebf77ba",
   "metadata": {},
   "outputs": [
    {
     "data": {
      "text/plain": [
       "(True, True, False)"
      ]
     },
     "execution_count": 2,
     "metadata": {},
     "output_type": "execute_result"
    }
   ],
   "source": [
    "# Boolean \n",
    "a= True\n",
    "b= False\n",
    "## 하잉\n",
    "5>3, a, b"
   ]
  },
  {
   "cell_type": "code",
   "execution_count": 7,
   "id": "13d11254-3e4c-41b6-a833-765e656a6f62",
   "metadata": {},
   "outputs": [
    {
     "data": {
      "text/plain": [
       "False"
      ]
     },
     "execution_count": 7,
     "metadata": {},
     "output_type": "execute_result"
    }
   ],
   "source": [
    "# 모든 것은 참 거짓으로 구분됨\n",
    "# 비어있으면 거짓\n",
    "bool(-5)\n",
    "bool(0) #F\n",
    "bool({}) #F"
   ]
  },
  {
   "cell_type": "code",
   "execution_count": 10,
   "id": "ee5ea8b6-b324-47ec-86c4-9f5d1a33035d",
   "metadata": {},
   "outputs": [
    {
     "name": "stdout",
     "output_type": "stream",
     "text": [
      "False\n"
     ]
    },
    {
     "data": {
      "text/plain": [
       "True"
      ]
     },
     "execution_count": 10,
     "metadata": {},
     "output_type": "execute_result"
    }
   ],
   "source": [
    "print(5==True) #5는 참이지만 참은 5가 아니다\n",
    "bool(5)==True"
   ]
  },
  {
   "cell_type": "code",
   "execution_count": 12,
   "id": "e0492fcf-7509-4cbe-8061-1867eb9571e4",
   "metadata": {},
   "outputs": [
    {
     "data": {
      "text/plain": [
       "False"
      ]
     },
     "execution_count": 12,
     "metadata": {},
     "output_type": "execute_result"
    }
   ],
   "source": [
    "box=[1,2,3,0]\n",
    "all(box) #모든 데이터가 참일때만 \n"
   ]
  },
  {
   "cell_type": "code",
   "execution_count": 14,
   "id": "69719d13-92db-4b01-80f2-fa2aeac1cf5f",
   "metadata": {},
   "outputs": [
    {
     "data": {
      "text/plain": [
       "True"
      ]
     },
     "execution_count": 14,
     "metadata": {},
     "output_type": "execute_result"
    }
   ],
   "source": [
    "box=[0,0,1]\n",
    "any(box) #하나라도 참이면 참"
   ]
  },
  {
   "cell_type": "code",
   "execution_count": 15,
   "id": "b3231369-804d-4e46-8765-e8ebfb44482e",
   "metadata": {},
   "outputs": [
    {
     "data": {
      "text/plain": [
       "(1, 0)"
      ]
     },
     "execution_count": 15,
     "metadata": {},
     "output_type": "execute_result"
    }
   ],
   "source": [
    " int(True),int(False) # 0, 1"
   ]
  },
  {
   "cell_type": "code",
   "execution_count": 18,
   "id": "f8d35517-cbfa-4477-b361-438c1407a850",
   "metadata": {},
   "outputs": [
    {
     "data": {
      "text/plain": [
       "(False, True, True)"
      ]
     },
     "execution_count": 18,
     "metadata": {},
     "output_type": "execute_result"
    }
   ],
   "source": [
    "a = True\n",
    "b = False\n",
    "\n",
    "# a와 b가 모두 참이어야 참\n",
    "a and b ,a or b , not b\n"
   ]
  },
  {
   "cell_type": "code",
   "execution_count": null,
   "id": "95e2f727-3982-422f-b63c-9ddeeda675f7",
   "metadata": {},
   "outputs": [],
   "source": []
  },
  {
   "cell_type": "code",
   "execution_count": null,
   "id": "371c4dc1-6c29-4fc4-8927-d401118b8e56",
   "metadata": {},
   "outputs": [],
   "source": []
  },
  {
   "cell_type": "code",
   "execution_count": null,
   "id": "d7637d02-a77a-4a91-8064-89184127f279",
   "metadata": {},
   "outputs": [],
   "source": []
  },
  {
   "cell_type": "code",
   "execution_count": null,
   "id": "96fb75b3-c7ff-430a-86ce-a48b7041a243",
   "metadata": {},
   "outputs": [],
   "source": []
  },
  {
   "cell_type": "code",
   "execution_count": null,
   "id": "bfeca401-5c54-45d6-87f9-0624ebba6799",
   "metadata": {},
   "outputs": [],
   "source": []
  },
  {
   "cell_type": "code",
   "execution_count": null,
   "id": "8a783e40-7033-41ce-8011-367aff339c2f",
   "metadata": {},
   "outputs": [],
   "source": []
  },
  {
   "cell_type": "code",
   "execution_count": null,
   "id": "1a205ea8-bff7-40fa-a70a-3633adf1e20f",
   "metadata": {},
   "outputs": [],
   "source": []
  },
  {
   "cell_type": "code",
   "execution_count": null,
   "id": "27aaad98-1e35-42f8-bcc4-046b71263eb9",
   "metadata": {},
   "outputs": [],
   "source": []
  },
  {
   "cell_type": "code",
   "execution_count": null,
   "id": "b4bea8d2-be30-470b-affd-9b3013a2e294",
   "metadata": {},
   "outputs": [],
   "source": []
  }
 ],
 "metadata": {
  "kernelspec": {
   "display_name": "Python 3 (ipykernel)",
   "language": "python",
   "name": "python3"
  },
  "language_info": {
   "codemirror_mode": {
    "name": "ipython",
    "version": 3
   },
   "file_extension": ".py",
   "mimetype": "text/x-python",
   "name": "python",
   "nbconvert_exporter": "python",
   "pygments_lexer": "ipython3",
   "version": "3.12.7"
  }
 },
 "nbformat": 4,
 "nbformat_minor": 5
}
