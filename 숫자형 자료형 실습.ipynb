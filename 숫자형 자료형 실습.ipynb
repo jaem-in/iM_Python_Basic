{
 "cells": [
  {
   "cell_type": "markdown",
   "id": "e3393785-c896-4650-a8cf-056ca8de0ed7",
   "metadata": {},
   "source": [
    "# 제목1\n",
    "## 제목2\n",
    "배고파요\n",
    "### 제목 3\n",
    "#### 제목 4\n",
    "##### 제목5\n",
    "\n",
    "* 개요1\n",
    "* 개요2\n",
    "* 개요3\n",
    "\n",
    "필기할 내용1\n",
    "\n",
    "필기할 내용2"
   ]
  },
  {
   "cell_type": "code",
   "execution_count": 8,
   "id": "e689d0fb-fbec-47bd-bdaf-ccb7ea78651d",
   "metadata": {},
   "outputs": [
    {
     "name": "stdout",
     "output_type": "stream",
     "text": [
      "5\n"
     ]
    }
   ],
   "source": [
    "#배고파용\n",
    "# 정수형 - a에 10을 넣어라\n",
    "a = 10\n",
    "a = 5\n",
    "print(a)\n"
   ]
  },
  {
   "cell_type": "code",
   "execution_count": 17,
   "id": "85408c21-1e81-4eb6-bf22-819fcb4aa55e",
   "metadata": {},
   "outputs": [
    {
     "name": "stdout",
     "output_type": "stream",
     "text": [
      "3\n",
      "10\n",
      "10\n"
     ]
    }
   ],
   "source": [
    "a=0b11 #2진법\n",
    "print(a)\n",
    "b=0o12 #8진법\n",
    "print(b)\n",
    "c=0xA  #16진법\n",
    "print(c)"
   ]
  },
  {
   "cell_type": "code",
   "execution_count": 16,
   "id": "b0632f5c-08d0-4cbd-bec8-4d14069f5093",
   "metadata": {},
   "outputs": [
    {
     "name": "stdout",
     "output_type": "stream",
     "text": [
      "8.14\n"
     ]
    }
   ],
   "source": [
    "a=3.14\n",
    "b=5\n",
    "print(a+b)"
   ]
  },
  {
   "cell_type": "code",
   "execution_count": 27,
   "id": "ce9c1412-246f-4980-9c71-2d065a3b1411",
   "metadata": {},
   "outputs": [
    {
     "name": "stdout",
     "output_type": "stream",
     "text": [
      "0.0\n",
      "1.2e-07\n"
     ]
    }
   ],
   "source": [
    "a=1.2e8\n",
    "c=1.2e-7\n",
    "b=1.2*10**8\n",
    "print(a -b)\n",
    "print(c)"
   ]
  },
  {
   "cell_type": "code",
   "execution_count": 29,
   "id": "9af95ae7-e7b7-4cb7-b34f-7bd501ed1126",
   "metadata": {},
   "outputs": [
    {
     "data": {
      "text/plain": [
       "(4+2j)"
      ]
     },
     "execution_count": 29,
     "metadata": {},
     "output_type": "execute_result"
    }
   ],
   "source": [
    "#복소수\n",
    "a= 4+2j\n",
    "print(a)"
   ]
  },
  {
   "cell_type": "code",
   "execution_count": 35,
   "id": "6b6bbaa3-eb37-4c76-b8b8-714cd97ff6a4",
   "metadata": {},
   "outputs": [
    {
     "name": "stdout",
     "output_type": "stream",
     "text": [
      "4.0\n",
      "2.0\n",
      "(480000000+240000000j)\n",
      "(120000004+2j)\n"
     ]
    }
   ],
   "source": [
    "print(a.real)\n",
    "print(a.imag)\n",
    "print(a*b)\n",
    "print(a+b)"
   ]
  },
  {
   "cell_type": "code",
   "execution_count": 39,
   "id": "bb4c8e9a-76ee-4241-9bd6-052594377f0c",
   "metadata": {},
   "outputs": [
    {
     "name": "stdout",
     "output_type": "stream",
     "text": [
      "0.30000000000000004\n",
      "0.3\n"
     ]
    }
   ],
   "source": [
    "#decimal이라는 라이브러리로부터 Decimal 함수를 가져옴\n",
    "#부동소수점 해결함수 Decimal\n",
    "from decimal import Decimal\n",
    "print(0.1+0.2)\n",
    "a=Decimal(\"0.1\")\n",
    "b=Decimal(\"0.2\")\n",
    "print(a+b)"
   ]
  },
  {
   "cell_type": "code",
   "execution_count": 45,
   "id": "2a50e2ab-fdb8-4328-aa56-f03a06d49688",
   "metadata": {},
   "outputs": [
    {
     "name": "stdout",
     "output_type": "stream",
     "text": [
      "13/21\n",
      "13 21\n"
     ]
    }
   ],
   "source": [
    "#분수 계산도구\n",
    "from fractions import Fraction\n",
    "\n",
    "a= Fraction(1,3)\n",
    "b=Fraction(2,7)\n",
    "c=a+b\n",
    "print(c)\n",
    "\n",
    "print(c.numerator,c.denominator)"
   ]
  },
  {
   "cell_type": "code",
   "execution_count": 49,
   "id": "9dc924b1-cd04-4eac-8405-9198e95c1472",
   "metadata": {},
   "outputs": [
    {
     "name": "stdout",
     "output_type": "stream",
     "text": [
      "13\n",
      "7\n",
      "3.3333333333333335\n",
      "30\n",
      "1000\n",
      "3\n",
      "1\n"
     ]
    }
   ],
   "source": [
    "#연산자 활용\n",
    "a=10\n",
    "b=3\n",
    "\n",
    "print(a+b)\n",
    "print(a-b)\n",
    "print(a/b)\n",
    "print(a*b)\n",
    "print(a**b)\n",
    "print(a//b) #몫\n",
    "print(a%b) #나머지\n"
   ]
  },
  {
   "cell_type": "code",
   "execution_count": 56,
   "id": "de5ff312-4d5f-4de0-984c-948a804e45b2",
   "metadata": {},
   "outputs": [
    {
     "name": "stdout",
     "output_type": "stream",
     "text": [
      "5\n",
      "3.14\n"
     ]
    },
    {
     "data": {
      "text/plain": [
       "12340"
      ]
     },
     "execution_count": 56,
     "metadata": {},
     "output_type": "execute_result"
    }
   ],
   "source": [
    "print(abs(-5))\n",
    "a=-11\n",
    "print(round(3.1444444,2)) #몇번째 자리까지 반올림 해서 나타낼것인지\n",
    "\n",
    "round(12345,-1) # 음수 넣으면 그 윗자리에서 반올림"
   ]
  },
  {
   "cell_type": "code",
   "execution_count": 63,
   "id": "1479a38c-868f-4d95-bfee-8b6df86a5cd1",
   "metadata": {},
   "outputs": [
    {
     "name": "stdout",
     "output_type": "stream",
     "text": [
      "5\n",
      "1\n"
     ]
    }
   ],
   "source": [
    "k=[1,2,3,4,5]\n",
    "sum(k)\n",
    "print(max(k))\n",
    "print(min(k))"
   ]
  },
  {
   "cell_type": "code",
   "execution_count": null,
   "id": "961db7d6-76ae-482d-9e63-42cb7b2b69c7",
   "metadata": {},
   "outputs": [],
   "source": []
  }
 ],
 "metadata": {
  "kernelspec": {
   "display_name": "Python 3 (ipykernel)",
   "language": "python",
   "name": "python3"
  },
  "language_info": {
   "codemirror_mode": {
    "name": "ipython",
    "version": 3
   },
   "file_extension": ".py",
   "mimetype": "text/x-python",
   "name": "python",
   "nbconvert_exporter": "python",
   "pygments_lexer": "ipython3",
   "version": "3.12.7"
  }
 },
 "nbformat": 4,
 "nbformat_minor": 5
}
