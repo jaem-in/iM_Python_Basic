{
 "cells": [
  {
   "cell_type": "code",
   "execution_count": 25,
   "id": "785ad4b4-57f1-4271-9ec8-3016f1ad69ea",
   "metadata": {},
   "outputs": [],
   "source": [
    "# 딕셔너리 자료형 // 무조건 key값 기준으로 실행\n",
    "dic = {\"이름\": \"김재민\" , \n",
    "      \"나이\": 24 ,\n",
    "      \"성별\": \"남자\"}\n",
    "\n",
    "#\"이름\" in dic\n"
   ]
  },
  {
   "cell_type": "code",
   "execution_count": 26,
   "id": "76435819-2edc-4733-ad9d-6bfbae765620",
   "metadata": {},
   "outputs": [
    {
     "data": {
      "text/plain": [
       "'해당 키 값 없음'"
      ]
     },
     "execution_count": 26,
     "metadata": {},
     "output_type": "execute_result"
    }
   ],
   "source": [
    "dic[\"이름\"]\n",
    "dic.get(\"이상형\",\"해당 키 값 없음\")"
   ]
  },
  {
   "cell_type": "code",
   "execution_count": 27,
   "id": "1ac1ddfc-bf13-4a4b-80f5-de45fa8a0f2b",
   "metadata": {},
   "outputs": [
    {
     "data": {
      "text/plain": [
       "{'이름': '이동주', '나이': 24, '성별': '남자', '이상형': '효정'}"
      ]
     },
     "execution_count": 27,
     "metadata": {},
     "output_type": "execute_result"
    }
   ],
   "source": [
    "#키 값은 고유함\n",
    "dic['이상형']=\"효정\" # 추가\n",
    "\n",
    "dic['이름']=\"이동주\" # 변경\n",
    "dic"
   ]
  },
  {
   "cell_type": "code",
   "execution_count": 28,
   "id": "c50f4457-e7a1-4eb3-af28-e1e80145439a",
   "metadata": {},
   "outputs": [
    {
     "data": {
      "text/plain": [
       "{'이름': '이동주', '나이': 24, '성별': '남자'}"
      ]
     },
     "execution_count": 28,
     "metadata": {},
     "output_type": "execute_result"
    }
   ],
   "source": [
    "#값 삭제\n",
    "del dic['이상형']\n",
    "dic"
   ]
  },
  {
   "cell_type": "code",
   "execution_count": 29,
   "id": "cc551941-e5b9-437b-928b-3150d462311c",
   "metadata": {},
   "outputs": [
    {
     "data": {
      "text/plain": [
       "'남자'"
      ]
     },
     "execution_count": 29,
     "metadata": {},
     "output_type": "execute_result"
    }
   ],
   "source": [
    "z=dic.pop('성별')\n",
    "z"
   ]
  },
  {
   "cell_type": "code",
   "execution_count": 30,
   "id": "04b413e6-7ed1-4eb8-a3fc-9802f4c81fb5",
   "metadata": {},
   "outputs": [
    {
     "data": {
      "text/plain": [
       "(dict_keys(['이름', '나이']), dict_values(['이동주', 24]))"
      ]
     },
     "execution_count": 30,
     "metadata": {},
     "output_type": "execute_result"
    }
   ],
   "source": [
    "dic.keys(), dic.values()"
   ]
  },
  {
   "cell_type": "code",
   "execution_count": 31,
   "id": "a110f83b-95a6-4cb4-bbd3-1dd7d22a2139",
   "metadata": {},
   "outputs": [
    {
     "data": {
      "text/plain": [
       "dict_items([('이름', '이동주'), ('나이', 24)])"
      ]
     },
     "execution_count": 31,
     "metadata": {},
     "output_type": "execute_result"
    }
   ],
   "source": [
    "# key,values가 tuple로 묶여서 나옴\n",
    "dic.items()"
   ]
  },
  {
   "cell_type": "code",
   "execution_count": 37,
   "id": "7def50bb-0e85-48de-9453-cb8325679ea7",
   "metadata": {},
   "outputs": [
    {
     "data": {
      "text/plain": [
       "{'이름': '이동주', '나이': 24, '사는곳': '대구'}"
      ]
     },
     "execution_count": 37,
     "metadata": {},
     "output_type": "execute_result"
    }
   ],
   "source": [
    "#딕셔너리끼리 합쳐야 하는 경우 덮어씌위는 느낌\n",
    "dic2={\"사는곳\": \"대구\",\n",
    "      \"이름\" : \"이동주\"}\n",
    "dic.update(dic2)\n",
    "dic"
   ]
  },
  {
   "cell_type": "code",
   "execution_count": 42,
   "id": "bf09372c-2669-463a-944b-068498411488",
   "metadata": {},
   "outputs": [
    {
     "name": "stdout",
     "output_type": "stream",
     "text": [
      "이름    이동주\n",
      "나이    24\n",
      "사는곳    대구\n"
     ]
    }
   ],
   "source": [
    "# dic 안에 있는 것들을 순서대로 변수 i에 넣는다.\n",
    "for i,j in dic.items():\n",
    "    print(i,\"  \", j)"
   ]
  },
  {
   "cell_type": "code",
   "execution_count": null,
   "id": "e1f7a949-9494-4ab9-8a27-786a1b3dc166",
   "metadata": {},
   "outputs": [],
   "source": []
  }
 ],
 "metadata": {
  "kernelspec": {
   "display_name": "Python 3 (ipykernel)",
   "language": "python",
   "name": "python3"
  },
  "language_info": {
   "codemirror_mode": {
    "name": "ipython",
    "version": 3
   },
   "file_extension": ".py",
   "mimetype": "text/x-python",
   "name": "python",
   "nbconvert_exporter": "python",
   "pygments_lexer": "ipython3",
   "version": "3.12.7"
  }
 },
 "nbformat": 4,
 "nbformat_minor": 5
}
